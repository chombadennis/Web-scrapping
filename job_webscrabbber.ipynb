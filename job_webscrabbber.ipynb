{
 "cells": [
  {
   "cell_type": "markdown",
   "id": "e89c1b9e-52bc-45b0-8c75-8cf80f7803cb",
   "metadata": {},
   "source": [
    "## Project - Scrape and Analyze Data Analyst Job Requirements with Python"
   ]
  },
  {
   "cell_type": "markdown",
   "id": "536acdfc-1e38-4242-98a5-ed10fac93ac9",
   "metadata": {},
   "source": [
    "We will use Python to perform Web Scraping on a Job Posting Site using Python.\n",
    "Objectives:\n",
    "- Increase the efficiency of job vacancy sourcing,\n",
    "- Improve the quality of job vacancy sourcing, and \n",
    "- Gain a competitive advantage\n",
    "\n",
    "We will analyze the data using web scraping tools that can automatically extract job posting data from multiple job posting sites through Extract, Transform and Load process.  We will then use the analysis to provide a more efficient way to provide job vacancies to better serve clients. The feature will help the recruitment agency by getting relevant openings to their clients more quickly, giving their clients a competitive advantage over other applicants."
   ]
  },
  {
   "cell_type": "markdown",
   "id": "d8325887-7dac-4be8-a8f6-f27d81c5cd45",
   "metadata": {},
   "source": [
    "### The Challenge"
   ]
  },
  {
   "cell_type": "markdown",
   "id": "61c3575a-998c-41f1-9d9f-c5025cf94e94",
   "metadata": {},
   "source": [
    "Conduct web scraping analysis to automatically extract job posting data from a job posting site. To do this, we will set up the environment, identify the job posting site, scrape the data, process, analyze and visualize the data. We are at liberty to choose whichever major job posting website we prefer.\n",
    "Thereafter, we will perform our analysis and share findings"
   ]
  },
  {
   "cell_type": "markdown",
   "id": "1d7892d1-724c-41fc-a334-e41ae3e8f222",
   "metadata": {
    "editable": true,
    "slideshow": {
     "slide_type": ""
    },
    "tags": []
   },
   "source": [
    "## Importing the required Libraries"
   ]
  },
  {
   "cell_type": "code",
   "execution_count": null,
   "id": "24b62ba1-9dd6-48bc-8599-dac0e4cea2df",
   "metadata": {},
   "outputs": [],
   "source": [
    "# Data scraping\n",
    "\n",
    "from bs4 import BeautifulSoup\n",
    "import requests\n",
    "import urllib.parse\n",
    "\n",
    "# Data manipulation\n",
    "import pandas as pd\n",
    "import numpy as np\n",
    "\n",
    "# Import visualization Libraries\n",
    "import matplotlib.pyplot as plt\n",
    "from matplotlib import rcParams\n",
    "import matplotlib\n",
    "import seaborn as sns\n",
    "import plotly.express as px\n",
    "%matplotlib inline\n",
    "\n",
    "# Appl styling\n",
    "#plt.style.use(\"ggplot\")\n",
    "#rcParams['figure.figsize'] = (12, 6)\n",
    "#sns.set_style('darkgrid')\n",
    "#matplotlib.rcParams['font.size'] = 14\n",
    "#matplotlib.rcParams['figure.figsize'] = (9, 5)\n",
    "#matplotlib.rcParams['figure.facecolor'] = '#00000000' "
   ]
  },
  {
   "cell_type": "markdown",
   "id": "609ef6b6-b78a-4603-b649-1d5d7d595f43",
   "metadata": {},
   "source": [
    "### Extraction Process"
   ]
  },
  {
   "cell_type": "code",
   "execution_count": null,
   "id": "b3b4136c-ff47-4fae-9ff5-c4ee664b4e24",
   "metadata": {},
   "outputs": [],
   "source": [
    "# Exracting function\n",
    "def extract(page):\n",
    "    headers = {'User-Agent': 'Mozilla/5.0 (Windows NT 10.0; Win64; x64; rv:128.0) Gecko/20100101 Firefox/128.0'}\n",
    "    weburl = f'https://ai-jobs.net/?cat=12&key=&exp=&sal={page}'\n",
    "    r = requests.get(weburl, headers)\n",
    "    #r.status_code #The code gives the vaklue 200 when executed. This shows that the request is successful\n",
    "    soup = BeautifulSoup(r.content, 'html.parser')\n",
    "    return soup \n"
   ]
  },
  {
   "cell_type": "markdown",
   "id": "21758c52-b85f-4b99-88a4-24a5ac6f8180",
   "metadata": {},
   "source": [
    "### Transform Process"
   ]
  },
  {
   "cell_type": "code",
   "execution_count": null,
   "id": "909b2c35-7566-4113-9ef2-a81e09252d2a",
   "metadata": {},
   "outputs": [],
   "source": [
    "# Transfroming function\n",
    "def transform(soup):\n",
    "    divs = soup.find_all('a', class_ = 'col pt-2 pb-3')\n",
    "    \n",
    "    # extracting and transforming the data from the website into a dictionary\n",
    "    for item in divs:\n",
    "        title = item.find('h2').text if item.find('h2') else \"N/A\"\n",
    "        company = item.find('p').text if item.find('p') else \"N/A\"\n",
    "        location = item.find('span', class_='d-none d-md-block text-break mb-1').text if item.find('span', class_='d-none d-md-block text-break mb-1') else \"N/A\"\n",
    "        salary = item.find('span', class_='badge rounded-pill text-bg-success d-none d-md-inline-block').text if item.find('span', class_='badge rounded-pill text-bg-success d-none d-md-inline-block') else \"N/A\"\n",
    "        experience = item.find('span', class_='badge rounded-pill text-bg-info my-md-1 d-none d-md-inline-block').text if item.find('span', class_='badge rounded-pill text-bg-info my-md-1 d-none d-md-inline-block') else \"N/A\"\n",
    "        job_type = item.find('span', class_='badge rounded-pill text-bg-secondary my-md-1 ms-1').text if item.find('span', class_='badge rounded-pill text-bg-secondary my-md-1 ms-1') else \"N/A\"\n",
    "        skills = [skill.text for skill in item.find_all('span', class_='badge rounded-pill text-bg-light')] \n",
    "        benefits_tags = item.find_all('span', class_ = 'badge rounded-pill text-bg-success')\n",
    "        benefits = [benefit.text for benefit in benefits_tags] if benefits_tags else [ ]\n",
    "\n",
    "        job = {\n",
    "            'Title' : title,\n",
    "            'Company' : company,\n",
    "            'Salary': salary,\n",
    "            'Experience': experience,\n",
    "            'Job_type' : job_type,\n",
    "            'Skills' : ', '.join(skills).strip('[ ]'),\n",
    "            'Benefits' : ', '.join(benefits)\n",
    "        }\n",
    "        joblist.append(job)\n",
    "    return\n"
   ]
  },
  {
   "cell_type": "code",
   "execution_count": null,
   "id": "50fdc86a-72dd-4d22-9e20-48a6e543f62c",
   "metadata": {},
   "outputs": [],
   "source": [
    "# create an empty list (dataframe) where the extracted and transformed data will be loaded.\n",
    "joblist = []\n",
    "\n",
    "for i in range (0, 40, 10):\n",
    "    print(f'Getting page, {i}')\n",
    "    c = extract(0)\n",
    "    transform(c)"
   ]
  },
  {
   "cell_type": "markdown",
   "id": "0c406ba3-48d4-41c2-9942-11bb7adb2b7f",
   "metadata": {},
   "source": [
    "### Loading Process"
   ]
  },
  {
   "cell_type": "code",
   "execution_count": null,
   "id": "2a1d5658-e1b4-4177-8ca7-cc8e1ee09033",
   "metadata": {
    "scrolled": true
   },
   "outputs": [],
   "source": [
    "# Move the data into a dataframe\n",
    "import pandas as pd\n",
    "df = pd.DataFrame(joblist)\n"
   ]
  },
  {
   "cell_type": "code",
   "execution_count": null,
   "id": "e0e22e3a-602b-418b-a311-c51fa1979b9e",
   "metadata": {},
   "outputs": [],
   "source": [
    "df.head()"
   ]
  },
  {
   "cell_type": "code",
   "execution_count": null,
   "id": "d97d7773-9484-477e-a530-109580e5cc3e",
   "metadata": {},
   "outputs": [],
   "source": [
    "df.tail()"
   ]
  },
  {
   "cell_type": "code",
   "execution_count": null,
   "id": "e907e2e6-3500-45a2-b892-7ba1e84105a4",
   "metadata": {},
   "outputs": [],
   "source": [
    "df.dtypes"
   ]
  },
  {
   "cell_type": "code",
   "execution_count": null,
   "id": "bd2918a7-62c7-445a-afcc-f353d4818263",
   "metadata": {},
   "outputs": [],
   "source": [
    "# Create a csv file that hold the data\n",
    "df.to_csv('Analyst_jobs.csv')"
   ]
  },
  {
   "cell_type": "code",
   "execution_count": null,
   "id": "e9e998b4-1b9f-4e11-9230-43f3af569a3f",
   "metadata": {},
   "outputs": [],
   "source": [
    "### Understanding the Data"
   ]
  },
  {
   "cell_type": "code",
   "execution_count": null,
   "id": "36d247ba-668c-40b9-b96c-acb4f0c3b489",
   "metadata": {},
   "outputs": [],
   "source": [
    "df.isnull().sum"
   ]
  },
  {
   "cell_type": "code",
   "execution_count": null,
   "id": "ad5d4feb-6c07-4845-a138-028874e86817",
   "metadata": {},
   "outputs": [],
   "source": [
    "# dropping null value columns to aavoid errors\n",
    "df.dropna(inplace = True)\n",
    "df.head()"
   ]
  },
  {
   "cell_type": "code",
   "execution_count": null,
   "id": "f440715d-cf85-4813-a82e-efd90199cf6b",
   "metadata": {},
   "outputs": [],
   "source": [
    "# new dataframe with split value columns\n",
    "import pandas as pd\n",
    "new = df[\"Salary\"].str.split(\" \", n = 4, expand = True)\n",
    "new"
   ]
  },
  {
   "cell_type": "code",
   "execution_count": null,
   "id": "189ca310-541d-4bbe-be1f-cef180f35fc4",
   "metadata": {},
   "outputs": [],
   "source": [
    "# Making separate first name column from new dataframe\n",
    "df['Currency'] = new[0]\n",
    "df['Min Salary'] = new[1]\n",
    "df['Max Salary'] = new[3]\n",
    "df.head()"
   ]
  },
  {
   "cell_type": "code",
   "execution_count": null,
   "id": "5e2f5317-1b35-48a3-8b59-93775e7ec31c",
   "metadata": {},
   "outputs": [],
   "source": [
    "df[\"Lower_Salary\"] = df[\"Min Salary\"].str.strip(\"kK\").astype(float)\n",
    "df[\"Upper_Salary\"] = df[\"Max Salary\"].str.strip(\"kK\").astype(float)\n",
    "df.tail()"
   ]
  },
  {
   "cell_type": "code",
   "execution_count": null,
   "id": "7b87c542-8167-4e09-a0b9-4e513447091c",
   "metadata": {},
   "outputs": [],
   "source": [
    "df.drop(columns = [\"Min Salary\", \"Max Salary\"], inplace = True)\n",
    "df.head()"
   ]
  },
  {
   "cell_type": "code",
   "execution_count": null,
   "id": "a378dada-319b-4795-828f-3a511f26cd51",
   "metadata": {},
   "outputs": [],
   "source": [
    "df = df.convert_dtypes()\n",
    "df.dtypes"
   ]
  },
  {
   "cell_type": "code",
   "execution_count": null,
   "id": "65eac2bf-593a-46e6-a9f7-dbe2288868fc",
   "metadata": {},
   "outputs": [],
   "source": [
    "df['Avg_Salary(e3)'] = (df['Lower_Salary'] + df['Upper_Salary']) / 2\n",
    "df.tail()"
   ]
  },
  {
   "cell_type": "code",
   "execution_count": null,
   "id": "f04683d4-4f32-4f00-b86d-1dc83a69011b",
   "metadata": {},
   "outputs": [],
   "source": [
    "\n",
    "# Currency exchange rates (USD to KES, EUR to KES, etc.)\n",
    "exchange_rates = {\n",
    "    \"USD\": 128.88,\n",
    "    \"EUR\": 140.57,\n",
    "    \"GBP\": 167.27,\n",
    "    \"CAD\": 94.32,\n",
    "    \"AUD\": 87.20,\n",
    "    \"SGD\": 96.73\n",
    "    # Add other currencies and their rates here\n",
    "}\n",
    "\n",
    "# Convert mean salary to Kenyan Shillings (KES)\n",
    "df[\"Exchange_Rate\"] = df[\"Currency\"].map(exchange_rates)\n",
    "df[\"Mean_Salary_KES(^3)\"] = df[\"Avg_Salary(e3)\"] * df[\"Exchange_Rate\"]\n",
    "\n",
    "# Create a mapping of currency codes to country names\n",
    "currency_to_country = {\n",
    "    \"USD\": \"United States\",\n",
    "    \"GBP\": \"United Kingdom\",\n",
    "    \"AUD\": \"Australia\",\n",
    "    \"CAD\": \"Canada\",\n",
    "    \"EUR\": \"Europe\",\n",
    "    \"SGD\": \"Singapore\"\n",
    "    # Add other mappings as needed\n",
    "}\n",
    "df[\"Country\"] = df[\"Currency\"].map(currency_to_country)\n",
    "\n",
    "# Replace \"N/A\" with NaN\n",
    "df.replace(\"N/A\", np.nan, inplace=True)\n"
   ]
  },
  {
   "cell_type": "code",
   "execution_count": null,
   "id": "69ecafef-c2df-41e9-a46e-af956564f69f",
   "metadata": {},
   "outputs": [],
   "source": [
    "# Move the 'TotalPrice' column to come after the 'UnitPrice' column\n",
    "\n",
    "cols = list(df.columns)\n",
    "cols.remove(\"Country\")  # Remove 'Country' from the list\n",
    "cols.insert(cols.index(\"Company\") + 1, \"Country\")  # Insert 'Country' after 'Company'\n",
    "df = df[cols]  # Reorder the columns\n",
    "\n",
    "# Display the resulting DataFrame\n",
    "#print(df)\n"
   ]
  },
  {
   "cell_type": "code",
   "execution_count": null,
   "id": "b68adc93-4ab2-4da1-b528-fa81716da9b1",
   "metadata": {},
   "outputs": [],
   "source": [
    "# Linearly interpolate missing values for Lower and Upper Salaries based on Currency\n",
    "df['Lower_Salary'] = df.groupby('Currency')['Lower_Salary'].transform(lambda x: x.interpolate())\n",
    "df['Upper_Salary'] = df.groupby('Currency')['Upper_Salary'].transform(lambda x: x.interpolate())\n",
    "print(\"Linearly interpolated mean salaries:\")\n",
    "df.tail()"
   ]
  },
  {
   "cell_type": "code",
   "execution_count": null,
   "id": "70e90f79-4e94-459a-863e-247f422684dc",
   "metadata": {
    "scrolled": true
   },
   "outputs": [],
   "source": [
    "df.head()"
   ]
  },
  {
   "cell_type": "markdown",
   "id": "c9fa8208-2d96-46e9-9052-7d1c72f5a12c",
   "metadata": {},
   "source": [
    "### Analysis and Visualizations"
   ]
  },
  {
   "cell_type": "code",
   "execution_count": null,
   "id": "f3564a38-7e9c-4731-9084-ec0ed5d3c1d7",
   "metadata": {},
   "outputs": [],
   "source": [
    "# Checking for  missing Values\n",
    "df.isnull()"
   ]
  },
  {
   "cell_type": "code",
   "execution_count": null,
   "id": "ecabc779-6bba-4400-aee2-afee3bd65952",
   "metadata": {},
   "outputs": [],
   "source": [
    "# Checking for missing Values\n",
    "df.notnull()"
   ]
  },
  {
   "cell_type": "markdown",
   "id": "1d2e0e08-9345-4d30-96e9-7ab9034b2811",
   "metadata": {},
   "source": [
    "### Distribution of Mean Salary based on Type of Country"
   ]
  },
  {
   "cell_type": "code",
   "execution_count": null,
   "id": "6183624c-0f17-46cf-bc01-3996f6340fd0",
   "metadata": {},
   "outputs": [],
   "source": [
    "# Assuming your DataFrame is named 'df' with columns 'Country' and 'Salary'\n",
    "df_clean = df.dropna(subset=['Mean_Salary_KES(^3)'])\n",
    "\n",
    "# Calculate average salary by country\n",
    "mean_salary_by_country = df_clean.groupby('Country')['Mean_Salary_KES(^3)'].mean()\n",
    "\n",
    "# Set a muted color palette\n",
    "colors = sns.color_palette(\"muted\")\n",
    "\n",
    "# Set the theme to 'darkgrid'\n",
    "sns.set(style=\"darkgrid\")\n",
    "plt.figure(figsize=(10, 6))\n",
    "\n",
    "# Create a bar plot for average salary by country\n",
    "sns.barplot(x=mean_salary_by_country.index, y=mean_salary_by_country.values,  palette=colors, hue=mean_salary_by_country.index)\n",
    "plt.xlabel('Country')\n",
    "plt.ylabel('Average Salary')\n",
    "plt.title('Average Salary by Country')\n",
    "\n",
    "plt.show()\n"
   ]
  },
  {
   "cell_type": "markdown",
   "id": "c333dbf8-0468-4622-b7ed-1cf4b2d1c68e",
   "metadata": {},
   "source": [
    "#### Average Salaries by Country and Experience"
   ]
  },
  {
   "cell_type": "code",
   "execution_count": null,
   "id": "01a6f2a8-46c2-4c2e-8ce2-7c601ca96431",
   "metadata": {},
   "outputs": [],
   "source": [
    "df_clean = df.dropna(subset=['Mean_Salary_KES(^3)'])\n",
    "\n",
    "# Calculate average salary by country and experience\n",
    "mean_salary_by_country_exp = df_clean.groupby(['Country', 'Experience'])['Mean_Salary_KES(^3)'].mean().reset_index()\n",
    "\n",
    "# Set a muted color palette\n",
    "colors = sns.color_palette(\"muted\")\n",
    "\n",
    "# Set the theme to 'darkgrid'\n",
    "sns.set(style=\"darkgrid\")\n",
    "plt.figure(figsize=(10, 6))\n",
    "\n",
    "# Create a bar plot for average salary by country and experience\n",
    "sns.barplot(x='Country', y='Mean_Salary_KES(^3)', hue='Experience', data=mean_salary_by_country_exp, palette=colors)\n",
    "plt.xlabel('Country')\n",
    "plt.ylabel('Average Salary')\n",
    "plt.title('Average Salary by Country and Experience')\n",
    "\n",
    "plt.show()\n",
    "\n"
   ]
  },
  {
   "cell_type": "markdown",
   "id": "f899056e-f897-4635-aa79-406175eb5db1",
   "metadata": {},
   "source": [
    "#### The Average Salaries by Jobe Type and Experience"
   ]
  },
  {
   "cell_type": "code",
   "execution_count": null,
   "id": "e33a6cba-df6f-4e6e-bb3f-ef51457a1d15",
   "metadata": {},
   "outputs": [],
   "source": [
    "# Visulaizing The Average Salaries by Country and Experience\n",
    "df_clean = df.dropna(subset=['Mean_Salary_KES(^3)'])\n",
    "\n",
    "# Calculate average salary by country and experience\n",
    "mean_salary_by_country_exp = df_clean.groupby(['Country', 'Job_type'])['Mean_Salary_KES(^3)'].mean().reset_index()\n",
    "\n",
    "# Set a muted color palette\n",
    "colors = sns.color_palette(\"Set3\")\n",
    "\n",
    "# Set the theme to 'darkgrid'\n",
    "sns.set(style=\"darkgrid\")\n",
    "plt.figure(figsize=(10, 6))\n",
    "\n",
    "# Create a bar plot for average salary by country and experience\n",
    "sns.barplot(x='Country', y='Mean_Salary_KES(^3)', hue='Job_type', data=mean_salary_by_country_exp, palette=colors)\n",
    "plt.xlabel('Country')\n",
    "plt.ylabel('Average Salary')\n",
    "plt.title('Average Salary by Job Type and Country')\n",
    "\n",
    "plt.show()"
   ]
  },
  {
   "cell_type": "markdown",
   "id": "ca65c072-50fc-425a-9926-69af9e0abcac",
   "metadata": {},
   "source": [
    "### Findings and Recommendations"
   ]
  },
  {
   "cell_type": "markdown",
   "id": "06ecebc2-504d-4911-8385-218567853e91",
   "metadata": {},
   "source": [
    "#### Findings"
   ]
  },
  {
   "cell_type": "markdown",
   "id": "6dd1404e-57a0-4c7c-8d2e-f9ba0b130404",
   "metadata": {},
   "source": [
    "1. The European Countries are not specified apart from United Kingdom.\n",
    "2. Only full time jobs are available\n",
    "3. Most Countries have jobs in one or two level(s) of experience"
   ]
  },
  {
   "cell_type": "markdown",
   "id": "3774162c-6522-491f-8fb7-bc3fda0794ac",
   "metadata": {},
   "source": [
    "#### Recommendations"
   ]
  },
  {
   "cell_type": "markdown",
   "id": "bd1befd1-c9ce-4a62-840b-18bd92b36d29",
   "metadata": {},
   "source": [
    "1. Source for different levels of experience in order to attract more traffic and clients seeking employment opportunities\n",
    "2. Specify the European Country where the job is located to make people understand issues form of communication expected to determine their suitability\n",
    "3. Source for other types of jobs to encourage applications of suitable candidates that may need a=some level of flexibility "
   ]
  },
  {
   "cell_type": "code",
   "execution_count": null,
   "id": "0cf5f5bc-7120-43f3-b3a6-92a435b3e019",
   "metadata": {},
   "outputs": [],
   "source": []
  }
 ],
 "metadata": {
  "kernelspec": {
   "display_name": "Python 3 (ipykernel)",
   "language": "python",
   "name": "python3"
  },
  "language_info": {
   "codemirror_mode": {
    "name": "ipython",
    "version": 3
   },
   "file_extension": ".py",
   "mimetype": "text/x-python",
   "name": "python",
   "nbconvert_exporter": "python",
   "pygments_lexer": "ipython3",
   "version": "3.12.4"
  }
 },
 "nbformat": 4,
 "nbformat_minor": 5
}
